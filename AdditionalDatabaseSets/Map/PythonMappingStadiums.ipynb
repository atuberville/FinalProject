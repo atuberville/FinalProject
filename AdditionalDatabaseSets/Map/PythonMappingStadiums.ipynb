{
 "cells": [
  {
   "cell_type": "code",
   "execution_count": 1,
   "id": "514e6b16",
   "metadata": {},
   "outputs": [],
   "source": [
    "import pandas as pd\n",
    "import numpy as np\n",
    "import folium\n",
    "from geopy.exc import GeocoderTimedOut\n",
    "from geopy.geocoders import Nominatim"
   ]
  },
  {
   "cell_type": "code",
   "execution_count": 2,
   "id": "279c8aa5",
   "metadata": {},
   "outputs": [
    {
     "data": {
      "text/html": [
       "<div>\n",
       "<style scoped>\n",
       "    .dataframe tbody tr th:only-of-type {\n",
       "        vertical-align: middle;\n",
       "    }\n",
       "\n",
       "    .dataframe tbody tr th {\n",
       "        vertical-align: top;\n",
       "    }\n",
       "\n",
       "    .dataframe thead th {\n",
       "        text-align: right;\n",
       "    }\n",
       "</style>\n",
       "<table border=\"1\" class=\"dataframe\">\n",
       "  <thead>\n",
       "    <tr style=\"text-align: right;\">\n",
       "      <th></th>\n",
       "      <th>Stadium Code</th>\n",
       "      <th>Name</th>\n",
       "      <th>City</th>\n",
       "      <th>State</th>\n",
       "      <th>Capacity</th>\n",
       "      <th>Surface</th>\n",
       "      <th>Year Opened</th>\n",
       "    </tr>\n",
       "  </thead>\n",
       "  <tbody>\n",
       "    <tr>\n",
       "      <th>0</th>\n",
       "      <td>1</td>\n",
       "      <td>Jordan-Hare Stadium</td>\n",
       "      <td>Auburn</td>\n",
       "      <td>AL</td>\n",
       "      <td>87451</td>\n",
       "      <td>Grass</td>\n",
       "      <td>1939</td>\n",
       "    </tr>\n",
       "    <tr>\n",
       "      <th>1</th>\n",
       "      <td>2</td>\n",
       "      <td>Legion Field</td>\n",
       "      <td>Birmingham</td>\n",
       "      <td>AL</td>\n",
       "      <td>71594</td>\n",
       "      <td>FieldTurf</td>\n",
       "      <td>1927</td>\n",
       "    </tr>\n",
       "    <tr>\n",
       "      <th>2</th>\n",
       "      <td>3</td>\n",
       "      <td>Ladd-Peebles Stadium</td>\n",
       "      <td>Mobile</td>\n",
       "      <td>AL</td>\n",
       "      <td>40646</td>\n",
       "      <td>FieldTurf</td>\n",
       "      <td>1948</td>\n",
       "    </tr>\n",
       "    <tr>\n",
       "      <th>3</th>\n",
       "      <td>4</td>\n",
       "      <td>Movie Gallery Veterans Stadium</td>\n",
       "      <td>Troy</td>\n",
       "      <td>AL</td>\n",
       "      <td>30000</td>\n",
       "      <td>AstroPlay</td>\n",
       "      <td>1950</td>\n",
       "    </tr>\n",
       "    <tr>\n",
       "      <th>4</th>\n",
       "      <td>5</td>\n",
       "      <td>Bryant-Denny Stadium</td>\n",
       "      <td>Tuscaloosa</td>\n",
       "      <td>AL</td>\n",
       "      <td>101821</td>\n",
       "      <td>Grass</td>\n",
       "      <td>1929</td>\n",
       "    </tr>\n",
       "  </tbody>\n",
       "</table>\n",
       "</div>"
      ],
      "text/plain": [
       "   Stadium Code                            Name        City State  Capacity  \\\n",
       "0             1             Jordan-Hare Stadium      Auburn    AL     87451   \n",
       "1             2                    Legion Field  Birmingham    AL     71594   \n",
       "2             3            Ladd-Peebles Stadium      Mobile    AL     40646   \n",
       "3             4  Movie Gallery Veterans Stadium        Troy    AL     30000   \n",
       "4             5            Bryant-Denny Stadium  Tuscaloosa    AL    101821   \n",
       "\n",
       "     Surface  Year Opened  \n",
       "0      Grass         1939  \n",
       "1  FieldTurf         1927  \n",
       "2  FieldTurf         1948  \n",
       "3  AstroPlay         1950  \n",
       "4      Grass         1929  "
      ]
     },
     "execution_count": 2,
     "metadata": {},
     "output_type": "execute_result"
    }
   ],
   "source": [
    "df = pd.read_csv ('stadium.csv')\n",
    "df.head()"
   ]
  },
  {
   "cell_type": "code",
   "execution_count": 3,
   "id": "d21e2e5a",
   "metadata": {},
   "outputs": [],
   "source": [
    "# empty list for lat and long columns\n",
    "longitude = []\n",
    "latitude = []\n",
    "   \n",
    "# function for coordinates\n",
    "def findGeocode(city):\n",
    "        \n",
    "    try:\n",
    "\n",
    "        geolocator = Nominatim(user_agent=\"config.js\")\n",
    "          \n",
    "        return geolocator.geocode(city)\n",
    "      \n",
    "    except GeocoderTimedOut:\n",
    "          \n",
    "        return findGeocode(city)    \n",
    "    \n",
    "for i in (df[\"City\"]):\n",
    "      \n",
    "    if findGeocode(i) != None:\n",
    "           \n",
    "        loc = findGeocode(i)\n",
    "          \n",
    "        latitude.append(loc.latitude)\n",
    "        longitude.append(loc.longitude)\n",
    "\n",
    "    else:\n",
    "        latitude.append(np.nan)\n",
    "        longitude.append(np.nan)"
   ]
  },
  {
   "cell_type": "code",
   "execution_count": 4,
   "id": "6b45d9d0",
   "metadata": {},
   "outputs": [
    {
     "data": {
      "text/html": [
       "<div>\n",
       "<style scoped>\n",
       "    .dataframe tbody tr th:only-of-type {\n",
       "        vertical-align: middle;\n",
       "    }\n",
       "\n",
       "    .dataframe tbody tr th {\n",
       "        vertical-align: top;\n",
       "    }\n",
       "\n",
       "    .dataframe thead th {\n",
       "        text-align: right;\n",
       "    }\n",
       "</style>\n",
       "<table border=\"1\" class=\"dataframe\">\n",
       "  <thead>\n",
       "    <tr style=\"text-align: right;\">\n",
       "      <th></th>\n",
       "      <th>Stadium Code</th>\n",
       "      <th>Name</th>\n",
       "      <th>City</th>\n",
       "      <th>State</th>\n",
       "      <th>Capacity</th>\n",
       "      <th>Surface</th>\n",
       "      <th>Year Opened</th>\n",
       "      <th>Longitude</th>\n",
       "      <th>Latitude</th>\n",
       "    </tr>\n",
       "  </thead>\n",
       "  <tbody>\n",
       "    <tr>\n",
       "      <th>0</th>\n",
       "      <td>1</td>\n",
       "      <td>Jordan-Hare Stadium</td>\n",
       "      <td>Auburn</td>\n",
       "      <td>AL</td>\n",
       "      <td>87451</td>\n",
       "      <td>Grass</td>\n",
       "      <td>1939</td>\n",
       "      <td>-85.480783</td>\n",
       "      <td>32.609857</td>\n",
       "    </tr>\n",
       "    <tr>\n",
       "      <th>1</th>\n",
       "      <td>2</td>\n",
       "      <td>Legion Field</td>\n",
       "      <td>Birmingham</td>\n",
       "      <td>AL</td>\n",
       "      <td>71594</td>\n",
       "      <td>FieldTurf</td>\n",
       "      <td>1927</td>\n",
       "      <td>-1.902691</td>\n",
       "      <td>52.479699</td>\n",
       "    </tr>\n",
       "    <tr>\n",
       "      <th>2</th>\n",
       "      <td>3</td>\n",
       "      <td>Ladd-Peebles Stadium</td>\n",
       "      <td>Mobile</td>\n",
       "      <td>AL</td>\n",
       "      <td>40646</td>\n",
       "      <td>FieldTurf</td>\n",
       "      <td>1948</td>\n",
       "      <td>-88.043054</td>\n",
       "      <td>30.694357</td>\n",
       "    </tr>\n",
       "    <tr>\n",
       "      <th>3</th>\n",
       "      <td>4</td>\n",
       "      <td>Movie Gallery Veterans Stadium</td>\n",
       "      <td>Troy</td>\n",
       "      <td>AL</td>\n",
       "      <td>30000</td>\n",
       "      <td>AstroPlay</td>\n",
       "      <td>1950</td>\n",
       "      <td>26.238017</td>\n",
       "      <td>39.957374</td>\n",
       "    </tr>\n",
       "    <tr>\n",
       "      <th>4</th>\n",
       "      <td>5</td>\n",
       "      <td>Bryant-Denny Stadium</td>\n",
       "      <td>Tuscaloosa</td>\n",
       "      <td>AL</td>\n",
       "      <td>101821</td>\n",
       "      <td>Grass</td>\n",
       "      <td>1929</td>\n",
       "      <td>-87.567526</td>\n",
       "      <td>33.209561</td>\n",
       "    </tr>\n",
       "  </tbody>\n",
       "</table>\n",
       "</div>"
      ],
      "text/plain": [
       "   Stadium Code                            Name        City State  Capacity  \\\n",
       "0             1             Jordan-Hare Stadium      Auburn    AL     87451   \n",
       "1             2                    Legion Field  Birmingham    AL     71594   \n",
       "2             3            Ladd-Peebles Stadium      Mobile    AL     40646   \n",
       "3             4  Movie Gallery Veterans Stadium        Troy    AL     30000   \n",
       "4             5            Bryant-Denny Stadium  Tuscaloosa    AL    101821   \n",
       "\n",
       "     Surface  Year Opened  Longitude   Latitude  \n",
       "0      Grass         1939 -85.480783  32.609857  \n",
       "1  FieldTurf         1927  -1.902691  52.479699  \n",
       "2  FieldTurf         1948 -88.043054  30.694357  \n",
       "3  AstroPlay         1950  26.238017  39.957374  \n",
       "4      Grass         1929 -87.567526  33.209561  "
      ]
     },
     "execution_count": 4,
     "metadata": {},
     "output_type": "execute_result"
    }
   ],
   "source": [
    "#add lat/long to data frame\n",
    "df[\"Longitude\"] = longitude\n",
    "df[\"Latitude\"] = latitude\n",
    "  \n",
    "df.head()"
   ]
  },
  {
   "cell_type": "code",
   "execution_count": 5,
   "id": "707c8826",
   "metadata": {},
   "outputs": [
    {
     "name": "stdout",
     "output_type": "stream",
     "text": [
      "     Stadium Code                            Name        City State  Capacity  \\\n",
      "0               1             Jordan-Hare Stadium      Auburn    AL     87451   \n",
      "1               2                    Legion Field  Birmingham    AL     71594   \n",
      "2               3            Ladd-Peebles Stadium      Mobile    AL     40646   \n",
      "3               4  Movie Gallery Veterans Stadium        Troy    AL     30000   \n",
      "4               5            Bryant-Denny Stadium  Tuscaloosa    AL    101821   \n",
      "..            ...                             ...         ...   ...       ...   \n",
      "159           139                   Husky Stadium     Seattle    WA     72500   \n",
      "160           141            Camp Randall Stadium     Madison    WI     79500   \n",
      "161           142            Joan Edwards Stadium  Huntington    WV     38016   \n",
      "162           143               Mountaineer Field  Morgantown    WV     63500   \n",
      "163           144            War Memorial Stadium     Laramie    WY     33500   \n",
      "\n",
      "       Surface  Year Opened   Longitude   Latitude  \n",
      "0        Grass         1939  -85.480783  32.609857  \n",
      "1    FieldTurf         1927   -1.902691  52.479699  \n",
      "2    FieldTurf         1948  -88.043054  30.694357  \n",
      "3    AstroPlay         1950   26.238017  39.957374  \n",
      "4        Grass         1929  -87.567526  33.209561  \n",
      "..         ...          ...         ...        ...  \n",
      "159  FieldTurf         1920 -122.330062  47.603832  \n",
      "160  FieldTurf         1917  -89.383761  43.074761  \n",
      "161  FieldTurf         1991  -82.445154  38.419250  \n",
      "162  FieldTurf         1980  -79.955944  39.629681  \n",
      "163  FieldTurf         1950 -105.591101  41.311367  \n",
      "\n",
      "[164 rows x 9 columns]\n"
     ]
    },
    {
     "data": {
      "text/plain": [
       "Stadium Code      int64\n",
       "Name             object\n",
       "City             object\n",
       "State            object\n",
       "Capacity          int64\n",
       "Surface          object\n",
       "Year Opened       int64\n",
       "Longitude       float64\n",
       "Latitude        float64\n",
       "dtype: object"
      ]
     },
     "execution_count": 5,
     "metadata": {},
     "output_type": "execute_result"
    }
   ],
   "source": [
    "# storing the data in JSON format\n",
    "df.to_json('file.geojson', orient = 'split', compression = 'infer', index = 'true')\n",
    " \n",
    "# reading the JSON file\n",
    "df = pd.read_json('file.geojson', orient ='split', compression = 'infer')\n",
    " \n",
    "# displaying the DataFrame\n",
    "print(df)\n",
    "df.dtypes\n"
   ]
  },
  {
   "cell_type": "code",
   "execution_count": 6,
   "id": "df614b62",
   "metadata": {},
   "outputs": [
    {
     "data": {
      "text/html": [
       "<div>\n",
       "<style scoped>\n",
       "    .dataframe tbody tr th:only-of-type {\n",
       "        vertical-align: middle;\n",
       "    }\n",
       "\n",
       "    .dataframe tbody tr th {\n",
       "        vertical-align: top;\n",
       "    }\n",
       "\n",
       "    .dataframe thead th {\n",
       "        text-align: right;\n",
       "    }\n",
       "</style>\n",
       "<table border=\"1\" class=\"dataframe\">\n",
       "  <thead>\n",
       "    <tr style=\"text-align: right;\">\n",
       "      <th></th>\n",
       "      <th>Latitude</th>\n",
       "      <th>Longitude</th>\n",
       "    </tr>\n",
       "  </thead>\n",
       "  <tbody>\n",
       "    <tr>\n",
       "      <th>0</th>\n",
       "      <td>32.609857</td>\n",
       "      <td>-85.480783</td>\n",
       "    </tr>\n",
       "    <tr>\n",
       "      <th>1</th>\n",
       "      <td>52.479699</td>\n",
       "      <td>-1.902691</td>\n",
       "    </tr>\n",
       "    <tr>\n",
       "      <th>2</th>\n",
       "      <td>30.694357</td>\n",
       "      <td>-88.043054</td>\n",
       "    </tr>\n",
       "    <tr>\n",
       "      <th>3</th>\n",
       "      <td>39.957374</td>\n",
       "      <td>26.238017</td>\n",
       "    </tr>\n",
       "    <tr>\n",
       "      <th>4</th>\n",
       "      <td>33.209561</td>\n",
       "      <td>-87.567526</td>\n",
       "    </tr>\n",
       "  </tbody>\n",
       "</table>\n",
       "</div>"
      ],
      "text/plain": [
       "    Latitude  Longitude\n",
       "0  32.609857 -85.480783\n",
       "1  52.479699  -1.902691\n",
       "2  30.694357 -88.043054\n",
       "3  39.957374  26.238017\n",
       "4  33.209561 -87.567526"
      ]
     },
     "execution_count": 6,
     "metadata": {},
     "output_type": "execute_result"
    }
   ],
   "source": [
    "dfloc = df[['Latitude', 'Longitude']].copy()\n",
    "dfloc.head()"
   ]
  },
  {
   "cell_type": "code",
   "execution_count": 7,
   "id": "78002f10",
   "metadata": {},
   "outputs": [
    {
     "data": {
      "text/plain": [
       "164"
      ]
     },
     "execution_count": 7,
     "metadata": {},
     "output_type": "execute_result"
    }
   ],
   "source": [
    "#list of lat/long\n",
    "locations = dfloc[['Latitude', 'Longitude']]\n",
    "locationlist = locations.values.tolist()\n",
    "len(locationlist)\n"
   ]
  },
  {
   "cell_type": "code",
   "execution_count": 75,
   "id": "e6bbf550",
   "metadata": {},
   "outputs": [
    {
     "data": {
      "text/plain": [
       "map"
      ]
     },
     "execution_count": 75,
     "metadata": {},
     "output_type": "execute_result"
    }
   ],
   "source": [
    "#create map\n",
    "m = folium.Map(location=[39.5, -98.5], zoom_start=4)\n",
    "for point in range(0, len(df)):\n",
    "    surface = df['Surface'].iloc[point]\n",
    "    if surface == 'Grass':\n",
    "        color = 'green'\n",
    "    elif surface == 'FieldTurf':\n",
    "        color = 'blue'\n",
    "    elif surface == 'AstroPlay':\n",
    "        color = 'purple'\n",
    "    else:\n",
    "        color = 'red'\n",
    "    labels = df['Name'].iloc[point]\n",
    "    folium.Marker(locationlist[point], popup=labels,\n",
    "                 icon=folium.Icon(color=color, icon='university', prefix='fa')).add_to(m)\n",
    "map"
   ]
  },
  {
   "cell_type": "code",
   "execution_count": 76,
   "id": "449834b3",
   "metadata": {},
   "outputs": [
    {
     "data": {
      "text/plain": [
       "<folium.plugins.float_image.FloatImage at 0x1ed9aee6cc8>"
      ]
     },
     "execution_count": 76,
     "metadata": {},
     "output_type": "execute_result"
    }
   ],
   "source": [
    "from folium.plugins import FloatImage\n",
    "image_file = 'image.PNG'\n",
    "\n",
    "FloatImage(image_file, bottom=0, left=86).add_to(m)"
   ]
  },
  {
   "cell_type": "code",
   "execution_count": 77,
   "id": "c5d75238",
   "metadata": {},
   "outputs": [],
   "source": [
    "#generate map\n",
    "m.save('map.html')"
   ]
  },
  {
   "cell_type": "code",
   "execution_count": null,
   "id": "746a5498",
   "metadata": {},
   "outputs": [],
   "source": []
  }
 ],
 "metadata": {
  "kernelspec": {
   "display_name": "PythonData",
   "language": "python",
   "name": "pythondata"
  },
  "language_info": {
   "codemirror_mode": {
    "name": "ipython",
    "version": 3
   },
   "file_extension": ".py",
   "mimetype": "text/x-python",
   "name": "python",
   "nbconvert_exporter": "python",
   "pygments_lexer": "ipython3",
   "version": "3.7.10"
  }
 },
 "nbformat": 4,
 "nbformat_minor": 5
}
