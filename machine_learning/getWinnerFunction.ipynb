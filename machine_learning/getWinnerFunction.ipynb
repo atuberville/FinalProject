{
 "cells": [
  {
   "cell_type": "code",
   "execution_count": 38,
   "id": "5c4dfb66",
   "metadata": {},
   "outputs": [],
   "source": [
    "# The getWinner Function using parameters and features\n",
    "# from the college_football_ml_oneTeam_Final.ipynb code\n",
    "from math import exp\n",
    "import pandas as pd\n",
    "\n",
    "# Read in the coefficients from the csv\n",
    "fileName='./coefs.csv'\n",
    "coefs_df=pd.read_csv(fileName)\n",
    "coefs=coefs_df.iloc[0].values.tolist()\n",
    "\n",
    "# define the function\n",
    "def getWinner(a_points, b_points, a_offense_rush_yards, b_offense_rush_yards,\n",
    "    a_offense_pass_yards, b_offense_pass_yards, \\\n",
    "    a_incomplete_pass, b_incomplete_pass, \\\n",
    "    a_penalty_yards, b_penalty_yards, b_home):\n",
    "    \n",
    "    r1=a_points, b_points, a_offense_rush_yards, b_offense_rush_yards, \\\n",
    "        a_offense_pass_yards, b_offense_pass_yards, a_incomplete_pass, \\\n",
    "        b_incomplete_pass, a_penalty_yards, b_penalty_yards, b_home\n",
    "    \n",
    "    index=0\n",
    "    linearSum=0\n",
    "    for value in r1:\n",
    "        linearSum = linearSum + value*coefs[index]\n",
    "        index = index+1\n",
    "    sigmoid=int(round(1/(1+exp(-1*linearSum)),0))\n",
    "    return sigmoid"
   ]
  }
 ],
 "metadata": {
  "kernelspec": {
   "display_name": "PythonData",
   "language": "python",
   "name": "pythondata"
  },
  "language_info": {
   "codemirror_mode": {
    "name": "ipython",
    "version": 3
   },
   "file_extension": ".py",
   "mimetype": "text/x-python",
   "name": "python",
   "nbconvert_exporter": "python",
   "pygments_lexer": "ipython3",
   "version": "3.7.10"
  }
 },
 "nbformat": 4,
 "nbformat_minor": 5
}
