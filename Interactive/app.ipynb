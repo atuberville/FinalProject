{
 "cells": [
  {
   "cell_type": "code",
   "execution_count": 2,
   "id": "e3d2e73f",
   "metadata": {},
   "outputs": [],
   "source": [
    "#import libraries\n",
    "import numpy as np\n",
    "from flask import Flask, render_template,request\n",
    "import pickle#Initialize the flask App\n",
    "app = Flask(__name__)\n",
    "model = pickle.load(open('/Users/benpeyton/Desktop/vandy_boot_camp/Module_20/20-Final_Project/model.pkl', 'rb'))"
   ]
  },
  {
   "cell_type": "code",
   "execution_count": 3,
   "id": "75de4841",
   "metadata": {},
   "outputs": [],
   "source": [
    "#default page of our web-app\n",
    "@app.route('/')\n",
    "def home():\n",
    "    return render_template('index.html')"
   ]
  },
  {
   "cell_type": "code",
   "execution_count": 4,
   "id": "a0b38121",
   "metadata": {},
   "outputs": [],
   "source": [
    "#To use the predict button in our web-app\n",
    "@app.route('/predict',methods=['POST'])\n",
    "def predict():\n",
    "    #For rendering results on HTML GUI\n",
    "    int_features = [float(x) for x in request.form.values()]\n",
    "    final_features = [np.array(int_features)]\n",
    "    prediction = model.predict(final_features)\n",
    "    output = round(prediction[0], 2) \n",
    "    return render_template('index.html', prediction_text='The winner will be :{}'.format(output))\n"
   ]
  },
  {
   "cell_type": "code",
   "execution_count": null,
   "id": "82bad48d",
   "metadata": {},
   "outputs": [],
   "source": []
  }
 ],
 "metadata": {
  "kernelspec": {
   "display_name": "PythonData",
   "language": "python",
   "name": "pythondata"
  },
  "language_info": {
   "codemirror_mode": {
    "name": "ipython",
    "version": 3
   },
   "file_extension": ".py",
   "mimetype": "text/x-python",
   "name": "python",
   "nbconvert_exporter": "python",
   "pygments_lexer": "ipython3",
   "version": "3.8.2"
  }
 },
 "nbformat": 4,
 "nbformat_minor": 5
}
